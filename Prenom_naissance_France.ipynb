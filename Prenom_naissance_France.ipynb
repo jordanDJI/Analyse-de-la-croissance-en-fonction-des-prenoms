{
 "cells": [
  {
   "cell_type": "code",
   "execution_count": 3,
   "id": "f32f3895-6368-47b8-a265-d8f48572f68a",
   "metadata": {},
   "outputs": [],
   "source": [
    "import pandas as pd\n",
    "import os"
   ]
  },
  {
   "cell_type": "code",
   "execution_count": 13,
   "id": "67f2a297-e681-4893-bc99-113a16066f16",
   "metadata": {},
   "outputs": [],
   "source": [
    "dossier= 'dpt_2000_2021_csv'\n",
    "\n",
    "list_df= []\n",
    "for fichier in os.listdir(dossier):\n",
    "    if fichier.endswith('.csv'):\n",
    "        list_df.append(os.path.join(dossier, fichier))\n",
    "df=pd.read_csv(list_df[0],sep=';')\n",
    "for i in range(1, len(list_df)):\n",
    "    new_df = pd.read_csv(list_df[i],sep=';')\n",
    "    df= pd.concat([df,new_df])\n",
    "df.reset_index(drop=True, inplace=True)\n",
    "df.to_csv(\"merge_fille.csv\", index=False,sep=\";\")\n",
    "        "
   ]
  },
  {
   "cell_type": "code",
   "execution_count": 11,
   "id": "3d23273a-96e1-4d9b-8003-5a0117411dbd",
   "metadata": {},
   "outputs": [
    {
     "name": "stderr",
     "output_type": "stream",
     "text": [
      "C:\\Users\\jorda\\AppData\\Local\\Temp\\ipykernel_21240\\2345523162.py:1: DtypeWarning: Columns (2,3) have mixed types. Specify dtype option on import or set low_memory=False.\n",
      "  df3=pd.read_csv(\"merge_fille.csv\", sep=\";\")\n"
     ]
    }
   ],
   "source": [
    "df3=pd.read_csv(\"merge_fille.csv\", sep=\";\")"
   ]
  },
  {
   "cell_type": "code",
   "execution_count": 12,
   "id": "a4aa2c78-99cf-4e89-8a4b-7c4da415d5a8",
   "metadata": {},
   "outputs": [
    {
     "data": {
      "text/html": [
       "<div>\n",
       "<style scoped>\n",
       "    .dataframe tbody tr th:only-of-type {\n",
       "        vertical-align: middle;\n",
       "    }\n",
       "\n",
       "    .dataframe tbody tr th {\n",
       "        vertical-align: top;\n",
       "    }\n",
       "\n",
       "    .dataframe thead th {\n",
       "        text-align: right;\n",
       "    }\n",
       "</style>\n",
       "<table border=\"1\" class=\"dataframe\">\n",
       "  <thead>\n",
       "    <tr style=\"text-align: right;\">\n",
       "      <th></th>\n",
       "      <th>sexe</th>\n",
       "      <th>preusuel</th>\n",
       "      <th>annais</th>\n",
       "      <th>dpt</th>\n",
       "      <th>nombre</th>\n",
       "    </tr>\n",
       "  </thead>\n",
       "  <tbody>\n",
       "    <tr>\n",
       "      <th>0</th>\n",
       "      <td>1</td>\n",
       "      <td>_PRENOMS_RARES</td>\n",
       "      <td>2000</td>\n",
       "      <td>1</td>\n",
       "      <td>30</td>\n",
       "    </tr>\n",
       "    <tr>\n",
       "      <th>1</th>\n",
       "      <td>1</td>\n",
       "      <td>_PRENOMS_RARES</td>\n",
       "      <td>2001</td>\n",
       "      <td>1</td>\n",
       "      <td>60</td>\n",
       "    </tr>\n",
       "    <tr>\n",
       "      <th>2</th>\n",
       "      <td>1</td>\n",
       "      <td>_PRENOMS_RARES</td>\n",
       "      <td>2002</td>\n",
       "      <td>1</td>\n",
       "      <td>64</td>\n",
       "    </tr>\n",
       "    <tr>\n",
       "      <th>3</th>\n",
       "      <td>1</td>\n",
       "      <td>_PRENOMS_RARES</td>\n",
       "      <td>2003</td>\n",
       "      <td>1</td>\n",
       "      <td>56</td>\n",
       "    </tr>\n",
       "    <tr>\n",
       "      <th>4</th>\n",
       "      <td>1</td>\n",
       "      <td>_PRENOMS_RARES</td>\n",
       "      <td>2004</td>\n",
       "      <td>1</td>\n",
       "      <td>56</td>\n",
       "    </tr>\n",
       "  </tbody>\n",
       "</table>\n",
       "</div>"
      ],
      "text/plain": [
       "   sexe        preusuel annais dpt  nombre\n",
       "0     1  _PRENOMS_RARES   2000   1      30\n",
       "1     1  _PRENOMS_RARES   2001   1      60\n",
       "2     1  _PRENOMS_RARES   2002   1      64\n",
       "3     1  _PRENOMS_RARES   2003   1      56\n",
       "4     1  _PRENOMS_RARES   2004   1      56"
      ]
     },
     "execution_count": 12,
     "metadata": {},
     "output_type": "execute_result"
    }
   ],
   "source": [
    "df3.head()"
   ]
  },
  {
   "cell_type": "code",
   "execution_count": 38,
   "id": "49e347f7-71d3-4b6c-89cf-588b9f76fdae",
   "metadata": {},
   "outputs": [],
   "source": [
    "df3.drop(df3[df3[\"annais\"] == \"XXXX\"].index, inplace=True) \n",
    "df3.drop(df3[df3[\"dpt\"] == \"XX\"].index, inplace=True) "
   ]
  },
  {
   "cell_type": "code",
   "execution_count": 39,
   "id": "7af069c7-b59f-42d7-ae1a-d90ef0af3c33",
   "metadata": {},
   "outputs": [
    {
     "name": "stdout",
     "output_type": "stream",
     "text": [
      "<class 'pandas.core.frame.DataFrame'>\n",
      "RangeIndex: 1128493 entries, 0 to 1128492\n",
      "Data columns (total 5 columns):\n",
      " #   Column    Non-Null Count    Dtype \n",
      "---  ------    --------------    ----- \n",
      " 0   sexe      1128493 non-null  int64 \n",
      " 1   preusuel  1128493 non-null  object\n",
      " 2   annais    1128493 non-null  object\n",
      " 3   dpt       1128493 non-null  object\n",
      " 4   nombre    1128493 non-null  int64 \n",
      "dtypes: int64(2), object(3)\n",
      "memory usage: 43.0+ MB\n"
     ]
    }
   ],
   "source": [
    "df3.info()"
   ]
  },
  {
   "cell_type": "code",
   "execution_count": 41,
   "id": "d277a5ec-6ba6-4dda-92ac-7505610fa796",
   "metadata": {},
   "outputs": [],
   "source": [
    "df3.to_csv(\"merge_fille2.csv\", index=False,sep=\";\", mode='w')"
   ]
  },
  {
   "cell_type": "code",
   "execution_count": 42,
   "id": "fb6cdfc1-95f8-4ff0-8025-5a7a2c6bc065",
   "metadata": {},
   "outputs": [
    {
     "name": "stdout",
     "output_type": "stream",
     "text": [
      "<class 'pandas.core.frame.DataFrame'>\n",
      "RangeIndex: 1128493 entries, 0 to 1128492\n",
      "Data columns (total 5 columns):\n",
      " #   Column    Non-Null Count    Dtype \n",
      "---  ------    --------------    ----- \n",
      " 0   sexe      1128493 non-null  int64 \n",
      " 1   preusuel  1128493 non-null  object\n",
      " 2   annais    1128493 non-null  object\n",
      " 3   dpt       1128493 non-null  object\n",
      " 4   nombre    1128493 non-null  int64 \n",
      "dtypes: int64(2), object(3)\n",
      "memory usage: 43.0+ MB\n"
     ]
    }
   ],
   "source": [
    "df3.info()"
   ]
  },
  {
   "cell_type": "code",
   "execution_count": null,
   "id": "419843f3-b1ab-4133-b694-169e236dac57",
   "metadata": {},
   "outputs": [],
   "source": []
  }
 ],
 "metadata": {
  "kernelspec": {
   "display_name": "Python 3 (ipykernel)",
   "language": "python",
   "name": "python3"
  },
  "language_info": {
   "codemirror_mode": {
    "name": "ipython",
    "version": 3
   },
   "file_extension": ".py",
   "mimetype": "text/x-python",
   "name": "python",
   "nbconvert_exporter": "python",
   "pygments_lexer": "ipython3",
   "version": "3.12.0"
  }
 },
 "nbformat": 4,
 "nbformat_minor": 5
}
