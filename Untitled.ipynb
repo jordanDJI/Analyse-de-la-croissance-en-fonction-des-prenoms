{
 "cells": [
  {
   "cell_type": "code",
   "execution_count": 3,
   "id": "f32f3895-6368-47b8-a265-d8f48572f68a",
   "metadata": {},
   "outputs": [],
   "source": [
    "import pandas as pd\n",
    "import os"
   ]
  },
  {
   "cell_type": "code",
   "execution_count": 13,
   "id": "67f2a297-e681-4893-bc99-113a16066f16",
   "metadata": {},
   "outputs": [],
   "source": [
    "dossier= 'dpt_2000_2021_csv'\n",
    "\n",
    "list_df= []\n",
    "for fichier in os.listdir(dossier):\n",
    "    if fichier.endswith('.csv'):\n",
    "        list_df.append(os.path.join(dossier, fichier))\n",
    "df=pd.read_csv(list_df[0],sep=';')\n",
    "for i in range(1, len(list_df)):\n",
    "    new_df = pd.read_csv(list_df[i],sep=';')\n",
    "    df= pd.concat([df,new_df])\n",
    "df.reset_index(drop=True, inplace=True)\n",
    "df.to_csv(\"merge_fille.csv\", index=False,sep=\";\")\n",
    "        "
   ]
  },
  {
   "cell_type": "code",
   "execution_count": null,
   "id": "3d23273a-96e1-4d9b-8003-5a0117411dbd",
   "metadata": {},
   "outputs": [],
   "source": []
  }
 ],
 "metadata": {
  "kernelspec": {
   "display_name": "Python 3 (ipykernel)",
   "language": "python",
   "name": "python3"
  },
  "language_info": {
   "codemirror_mode": {
    "name": "ipython",
    "version": 3
   },
   "file_extension": ".py",
   "mimetype": "text/x-python",
   "name": "python",
   "nbconvert_exporter": "python",
   "pygments_lexer": "ipython3",
   "version": "3.12.0"
  }
 },
 "nbformat": 4,
 "nbformat_minor": 5
}
